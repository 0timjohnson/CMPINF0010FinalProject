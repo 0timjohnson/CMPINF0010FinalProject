{
 "cells": [
  {
   "cell_type": "markdown",
   "metadata": {},
   "source": [
    "# BEST NEIGHBORHOOD IN PITTSBURGH"
   ]
  },
  {
   "cell_type": "markdown",
   "metadata": {},
   "source": [
    "## Introduction "
   ]
  },
  {
   "cell_type": "markdown",
   "metadata": {},
   "source": [
    "Using the datasets provided by the WPRDC, we chose the following three factors for the best neighborhood in Pittsburgh:"
   ]
  },
  {
   "cell_type": "markdown",
   "metadata": {},
   "source": [
    "* Crime Rate (Arrest Records)\n",
    "* Fire Incidents \n",
    "* Locations of Art Work"
   ]
  },
  {
   "cell_type": "markdown",
   "metadata": {},
   "source": [
    "Our three metrics were chosen to delegate which Pittsburgh neighborhood would provide the best quality of life. Crime rate data was included because safety is always a number one priority when looking at any neighborhood that you may move into. Nobody willingly wants to live in a neighborhood where crime rate is high because it is simply not safe. We also chose to add fire incidents data because a fire can be very detrimental to your home and neighborhood. Frequency of fires in a particular neighborhood can indicate poor craftsmanship of the homes or carelessness of neighbors. Lastly, we selected the frequency of art in Pittsburgh because we believe this can increase the visual aspect of your neighborhood. Also, sculptures and monuments tend to be in and around parks. "
   ]
  },
  {
   "cell_type": "markdown",
   "metadata": {},
   "source": [
    "## The Metric"
   ]
  },
  {
   "cell_type": "markdown",
   "metadata": {},
   "source": [
    "We determined our metric, quality of life, through the following three items:\n",
    "* Arrest Data - This metric is of safety in each neighborhood. We measured this using data of arrests in Pittsburgh from 2016 to the present day. \n",
    "* Art Data - This metric is of the enjoyability of living in a city and is measured by the amount of public art in each neighborhood. We believe a good neighborhood should consist of a variety of public art for people to enjoy as they go about their daily lives.\n",
    "* Fire Data - This metric is safety from fires. We measured this using the amount of fires per each neighborhood in Pittsburgh. We think a good neighborhood consists of a low amount of fires.\n",
    "\n",
    "We believe that these three data seta accurately represent key components to the best quality of life in your neighborhood."
   ]
  },
  {
   "cell_type": "markdown",
   "metadata": {},
   "source": [
    "# Arrest Data"
   ]
  },
  {
   "cell_type": "markdown",
   "metadata": {},
   "source": [
    "This metric is of safety in each neighborhood. We measured this using data of arrests in Pittsburgh from 2016 to the present day.\n",
    "\n",
    "----"
   ]
  },
  {
   "cell_type": "markdown",
   "metadata": {},
   "source": [
    "### Scoring of data"
   ]
  },
  {
   "cell_type": "markdown",
   "metadata": {},
   "source": [
    "We have decided to measure our data by giving a certain amount of qulaity points to the top five neighborhoods in this metric. These Quality points will be combined with other metrics to give us a standardized score to determine the overall best neighborhood in Pittsburgh.\n",
    "\n",
    "----"
   ]
  },
  {
   "cell_type": "markdown",
   "metadata": {},
   "source": [
    "### Data Collection"
   ]
  },
  {
   "cell_type": "code",
   "execution_count": 1,
   "metadata": {},
   "outputs": [],
   "source": [
    "import pandas as pd"
   ]
  },
  {
   "cell_type": "code",
   "execution_count": 2,
   "metadata": {},
   "outputs": [],
   "source": [
    "arrestdata = pd.read_csv(\"https://data.wprdc.org/datastore/dump/e03a89dd-134a-4ee8-a2bd-62c40aeebc6f\")"
   ]
  },
  {
   "cell_type": "code",
   "execution_count": 3,
   "metadata": {},
   "outputs": [
    {
     "data": {
      "text/html": [
       "<div>\n",
       "<style scoped>\n",
       "    .dataframe tbody tr th:only-of-type {\n",
       "        vertical-align: middle;\n",
       "    }\n",
       "\n",
       "    .dataframe tbody tr th {\n",
       "        vertical-align: top;\n",
       "    }\n",
       "\n",
       "    .dataframe thead th {\n",
       "        text-align: right;\n",
       "    }\n",
       "</style>\n",
       "<table border=\"1\" class=\"dataframe\">\n",
       "  <thead>\n",
       "    <tr style=\"text-align: right;\">\n",
       "      <th></th>\n",
       "      <th>PK</th>\n",
       "      <th>CCR</th>\n",
       "      <th>AGE</th>\n",
       "      <th>GENDER</th>\n",
       "      <th>RACE</th>\n",
       "      <th>ARRESTTIME</th>\n",
       "      <th>ARRESTLOCATION</th>\n",
       "      <th>OFFENSES</th>\n",
       "      <th>INCIDENTLOCATION</th>\n",
       "      <th>INCIDENTNEIGHBORHOOD</th>\n",
       "      <th>INCIDENTZONE</th>\n",
       "      <th>INCIDENTTRACT</th>\n",
       "      <th>COUNCIL_DISTRICT</th>\n",
       "      <th>PUBLIC_WORKS_DIVISION</th>\n",
       "      <th>X</th>\n",
       "      <th>Y</th>\n",
       "    </tr>\n",
       "  </thead>\n",
       "  <tbody>\n",
       "    <tr>\n",
       "      <th>0</th>\n",
       "      <td>1975272</td>\n",
       "      <td>16158872</td>\n",
       "      <td>42.0</td>\n",
       "      <td>F</td>\n",
       "      <td>B</td>\n",
       "      <td>2016-08-24T12:20:00</td>\n",
       "      <td>4700 Block Centre AV Pittsburgh, PA 15213</td>\n",
       "      <td>3929 Retail Theft.</td>\n",
       "      <td>4700 Block Centre AV Pittsburgh, PA 15213</td>\n",
       "      <td>Bloomfield</td>\n",
       "      <td>5</td>\n",
       "      <td>804.0</td>\n",
       "      <td>8.0</td>\n",
       "      <td>2.0</td>\n",
       "      <td>-79.949277</td>\n",
       "      <td>40.452551</td>\n",
       "    </tr>\n",
       "    <tr>\n",
       "      <th>1</th>\n",
       "      <td>1974456</td>\n",
       "      <td>16144120</td>\n",
       "      <td>31.0</td>\n",
       "      <td>M</td>\n",
       "      <td>W</td>\n",
       "      <td>2016-08-03T14:55:00</td>\n",
       "      <td>4200 Block Steubenville PKE Pittsburgh, PA 15205</td>\n",
       "      <td>13(a)(16) Possession of Controlled Substance</td>\n",
       "      <td>4200 Block Steubenville PKE Pittsburgh, PA 15205</td>\n",
       "      <td>Outside City</td>\n",
       "      <td>OSC</td>\n",
       "      <td>5599.0</td>\n",
       "      <td>NaN</td>\n",
       "      <td>NaN</td>\n",
       "      <td>-80.088018</td>\n",
       "      <td>40.440136</td>\n",
       "    </tr>\n",
       "    <tr>\n",
       "      <th>2</th>\n",
       "      <td>1974466</td>\n",
       "      <td>16144165</td>\n",
       "      <td>63.0</td>\n",
       "      <td>F</td>\n",
       "      <td>B</td>\n",
       "      <td>2016-08-03T16:45:00</td>\n",
       "      <td>900 Block Freeport RD Fox Chapel, PA 15238</td>\n",
       "      <td>3929 Retail Theft.</td>\n",
       "      <td>900 Block Freeport RD Fox Chapel, PA 15238</td>\n",
       "      <td>Westwood</td>\n",
       "      <td>5</td>\n",
       "      <td>2811.0</td>\n",
       "      <td>9.0</td>\n",
       "      <td>2.0</td>\n",
       "      <td>-79.891803</td>\n",
       "      <td>40.486625</td>\n",
       "    </tr>\n",
       "    <tr>\n",
       "      <th>3</th>\n",
       "      <td>1974550</td>\n",
       "      <td>16145257</td>\n",
       "      <td>25.0</td>\n",
       "      <td>F</td>\n",
       "      <td>W</td>\n",
       "      <td>2016-08-05T02:36:00</td>\n",
       "      <td>Foreland ST &amp; Cedar AV Pittsburgh, PA 15212</td>\n",
       "      <td>5503 Disorderly Conduct. / 5505 Public Drunken...</td>\n",
       "      <td>Foreland ST &amp; Cedar AV Pittsburgh, PA 15212</td>\n",
       "      <td>East Allegheny</td>\n",
       "      <td>1</td>\n",
       "      <td>2304.0</td>\n",
       "      <td>1.0</td>\n",
       "      <td>1.0</td>\n",
       "      <td>-80.001939</td>\n",
       "      <td>40.454080</td>\n",
       "    </tr>\n",
       "    <tr>\n",
       "      <th>4</th>\n",
       "      <td>1974596</td>\n",
       "      <td>16145962</td>\n",
       "      <td>25.0</td>\n",
       "      <td>M</td>\n",
       "      <td>B</td>\n",
       "      <td>2016-08-06T02:00:00</td>\n",
       "      <td>900 Block Woodlow ST Pittsburgh, PA 15205</td>\n",
       "      <td>2702 Aggravated Assault. / 2705 Recklessy Enda...</td>\n",
       "      <td>900 Block Woodlow ST Pittsburgh, PA 15205</td>\n",
       "      <td>Crafton Heights</td>\n",
       "      <td>5</td>\n",
       "      <td>2814.0</td>\n",
       "      <td>2.0</td>\n",
       "      <td>5.0</td>\n",
       "      <td>-80.052204</td>\n",
       "      <td>40.445900</td>\n",
       "    </tr>\n",
       "    <tr>\n",
       "      <th>...</th>\n",
       "      <td>...</td>\n",
       "      <td>...</td>\n",
       "      <td>...</td>\n",
       "      <td>...</td>\n",
       "      <td>...</td>\n",
       "      <td>...</td>\n",
       "      <td>...</td>\n",
       "      <td>...</td>\n",
       "      <td>...</td>\n",
       "      <td>...</td>\n",
       "      <td>...</td>\n",
       "      <td>...</td>\n",
       "      <td>...</td>\n",
       "      <td>...</td>\n",
       "      <td>...</td>\n",
       "      <td>...</td>\n",
       "    </tr>\n",
       "    <tr>\n",
       "      <th>51878</th>\n",
       "      <td>2042638</td>\n",
       "      <td>21164616</td>\n",
       "      <td>37.0</td>\n",
       "      <td>F</td>\n",
       "      <td>W</td>\n",
       "      <td>2021-09-08T21:02:00</td>\n",
       "      <td>200 Block East Ohio ST Pittsburgh, PA 15212</td>\n",
       "      <td>4910 Tampering with or Fabricating Physical Ev...</td>\n",
       "      <td>200 Block East Ohio ST Pittsburgh, PA 15212</td>\n",
       "      <td>Allegheny Center</td>\n",
       "      <td>1</td>\n",
       "      <td>2204.0</td>\n",
       "      <td>NaN</td>\n",
       "      <td>NaN</td>\n",
       "      <td>0.000000</td>\n",
       "      <td>0.000000</td>\n",
       "    </tr>\n",
       "    <tr>\n",
       "      <th>51879</th>\n",
       "      <td>2042639</td>\n",
       "      <td>21164634</td>\n",
       "      <td>21.0</td>\n",
       "      <td>F</td>\n",
       "      <td>B</td>\n",
       "      <td>2021-09-08T21:21:00</td>\n",
       "      <td>2500 Block Banksville RD Pittsburgh, PA 15216</td>\n",
       "      <td>1301 Registration and Certificate of Title Req...</td>\n",
       "      <td>2500 Block Banksville RD Pittsburgh, PA 15216</td>\n",
       "      <td>Beechview</td>\n",
       "      <td>6</td>\n",
       "      <td>1920.0</td>\n",
       "      <td>2.0</td>\n",
       "      <td>5.0</td>\n",
       "      <td>-80.034241</td>\n",
       "      <td>40.406980</td>\n",
       "    </tr>\n",
       "    <tr>\n",
       "      <th>51880</th>\n",
       "      <td>2042640</td>\n",
       "      <td>21164639</td>\n",
       "      <td>55.0</td>\n",
       "      <td>M</td>\n",
       "      <td>B</td>\n",
       "      <td>2021-09-08T22:29:00</td>\n",
       "      <td>20 Block Kenwood AV Pittsburgh, PA 15214</td>\n",
       "      <td>9093 Indirect Criminal Contempt</td>\n",
       "      <td>20 Block Kenwood AV Pittsburgh, PA 15214</td>\n",
       "      <td>Perry South</td>\n",
       "      <td>1</td>\n",
       "      <td>2614.0</td>\n",
       "      <td>6.0</td>\n",
       "      <td>1.0</td>\n",
       "      <td>-80.009328</td>\n",
       "      <td>40.469360</td>\n",
       "    </tr>\n",
       "    <tr>\n",
       "      <th>51881</th>\n",
       "      <td>2042641</td>\n",
       "      <td>21164658</td>\n",
       "      <td>28.0</td>\n",
       "      <td>M</td>\n",
       "      <td>W</td>\n",
       "      <td>2021-09-08T23:15:00</td>\n",
       "      <td>600 Block 1st AV Pittsburgh, PA 15219</td>\n",
       "      <td>2709(a) Harassment. / 3304 Criminal Mischief. ...</td>\n",
       "      <td>5400 Block Penn AV Pittsburgh, PA 15206</td>\n",
       "      <td>Garfield</td>\n",
       "      <td>5</td>\n",
       "      <td>1114.0</td>\n",
       "      <td>9.0</td>\n",
       "      <td>2.0</td>\n",
       "      <td>-79.936417</td>\n",
       "      <td>40.464663</td>\n",
       "    </tr>\n",
       "    <tr>\n",
       "      <th>51882</th>\n",
       "      <td>2042642</td>\n",
       "      <td>21164682</td>\n",
       "      <td>43.0</td>\n",
       "      <td>M</td>\n",
       "      <td>W</td>\n",
       "      <td>2021-09-09T00:01:00</td>\n",
       "      <td>E Carson ST &amp; S 33rd ST Pittsburgh, PA 15203</td>\n",
       "      <td>3304 Overtaking Vehicle on the Right. / 3309 D...</td>\n",
       "      <td>E Carson ST &amp; S 33rd ST Pittsburgh, PA 15203</td>\n",
       "      <td>South Side Flats</td>\n",
       "      <td>3</td>\n",
       "      <td>1609.0</td>\n",
       "      <td>3.0</td>\n",
       "      <td>3.0</td>\n",
       "      <td>-79.960168</td>\n",
       "      <td>40.422509</td>\n",
       "    </tr>\n",
       "  </tbody>\n",
       "</table>\n",
       "<p>51883 rows × 16 columns</p>\n",
       "</div>"
      ],
      "text/plain": [
       "            PK       CCR   AGE GENDER RACE           ARRESTTIME  \\\n",
       "0      1975272  16158872  42.0      F    B  2016-08-24T12:20:00   \n",
       "1      1974456  16144120  31.0      M    W  2016-08-03T14:55:00   \n",
       "2      1974466  16144165  63.0      F    B  2016-08-03T16:45:00   \n",
       "3      1974550  16145257  25.0      F    W  2016-08-05T02:36:00   \n",
       "4      1974596  16145962  25.0      M    B  2016-08-06T02:00:00   \n",
       "...        ...       ...   ...    ...  ...                  ...   \n",
       "51878  2042638  21164616  37.0      F    W  2021-09-08T21:02:00   \n",
       "51879  2042639  21164634  21.0      F    B  2021-09-08T21:21:00   \n",
       "51880  2042640  21164639  55.0      M    B  2021-09-08T22:29:00   \n",
       "51881  2042641  21164658  28.0      M    W  2021-09-08T23:15:00   \n",
       "51882  2042642  21164682  43.0      M    W  2021-09-09T00:01:00   \n",
       "\n",
       "                                         ARRESTLOCATION  \\\n",
       "0             4700 Block Centre AV Pittsburgh, PA 15213   \n",
       "1      4200 Block Steubenville PKE Pittsburgh, PA 15205   \n",
       "2            900 Block Freeport RD Fox Chapel, PA 15238   \n",
       "3           Foreland ST & Cedar AV Pittsburgh, PA 15212   \n",
       "4             900 Block Woodlow ST Pittsburgh, PA 15205   \n",
       "...                                                 ...   \n",
       "51878       200 Block East Ohio ST Pittsburgh, PA 15212   \n",
       "51879     2500 Block Banksville RD Pittsburgh, PA 15216   \n",
       "51880          20 Block Kenwood AV Pittsburgh, PA 15214   \n",
       "51881             600 Block 1st AV Pittsburgh, PA 15219   \n",
       "51882      E Carson ST & S 33rd ST Pittsburgh, PA 15203   \n",
       "\n",
       "                                                OFFENSES  \\\n",
       "0                                     3929 Retail Theft.   \n",
       "1           13(a)(16) Possession of Controlled Substance   \n",
       "2                                     3929 Retail Theft.   \n",
       "3      5503 Disorderly Conduct. / 5505 Public Drunken...   \n",
       "4      2702 Aggravated Assault. / 2705 Recklessy Enda...   \n",
       "...                                                  ...   \n",
       "51878  4910 Tampering with or Fabricating Physical Ev...   \n",
       "51879  1301 Registration and Certificate of Title Req...   \n",
       "51880                    9093 Indirect Criminal Contempt   \n",
       "51881  2709(a) Harassment. / 3304 Criminal Mischief. ...   \n",
       "51882  3304 Overtaking Vehicle on the Right. / 3309 D...   \n",
       "\n",
       "                                       INCIDENTLOCATION INCIDENTNEIGHBORHOOD  \\\n",
       "0             4700 Block Centre AV Pittsburgh, PA 15213           Bloomfield   \n",
       "1      4200 Block Steubenville PKE Pittsburgh, PA 15205         Outside City   \n",
       "2            900 Block Freeport RD Fox Chapel, PA 15238             Westwood   \n",
       "3           Foreland ST & Cedar AV Pittsburgh, PA 15212       East Allegheny   \n",
       "4             900 Block Woodlow ST Pittsburgh, PA 15205      Crafton Heights   \n",
       "...                                                 ...                  ...   \n",
       "51878       200 Block East Ohio ST Pittsburgh, PA 15212     Allegheny Center   \n",
       "51879     2500 Block Banksville RD Pittsburgh, PA 15216            Beechview   \n",
       "51880          20 Block Kenwood AV Pittsburgh, PA 15214          Perry South   \n",
       "51881           5400 Block Penn AV Pittsburgh, PA 15206             Garfield   \n",
       "51882      E Carson ST & S 33rd ST Pittsburgh, PA 15203     South Side Flats   \n",
       "\n",
       "      INCIDENTZONE  INCIDENTTRACT  COUNCIL_DISTRICT  PUBLIC_WORKS_DIVISION  \\\n",
       "0                5          804.0               8.0                    2.0   \n",
       "1              OSC         5599.0               NaN                    NaN   \n",
       "2                5         2811.0               9.0                    2.0   \n",
       "3                1         2304.0               1.0                    1.0   \n",
       "4                5         2814.0               2.0                    5.0   \n",
       "...            ...            ...               ...                    ...   \n",
       "51878            1         2204.0               NaN                    NaN   \n",
       "51879            6         1920.0               2.0                    5.0   \n",
       "51880            1         2614.0               6.0                    1.0   \n",
       "51881            5         1114.0               9.0                    2.0   \n",
       "51882            3         1609.0               3.0                    3.0   \n",
       "\n",
       "               X          Y  \n",
       "0     -79.949277  40.452551  \n",
       "1     -80.088018  40.440136  \n",
       "2     -79.891803  40.486625  \n",
       "3     -80.001939  40.454080  \n",
       "4     -80.052204  40.445900  \n",
       "...          ...        ...  \n",
       "51878   0.000000   0.000000  \n",
       "51879 -80.034241  40.406980  \n",
       "51880 -80.009328  40.469360  \n",
       "51881 -79.936417  40.464663  \n",
       "51882 -79.960168  40.422509  \n",
       "\n",
       "[51883 rows x 16 columns]"
      ]
     },
     "execution_count": 3,
     "metadata": {},
     "output_type": "execute_result"
    }
   ],
   "source": [
    "arrestdata"
   ]
  },
  {
   "cell_type": "code",
   "execution_count": 13,
   "metadata": {},
   "outputs": [
    {
     "data": {
      "text/plain": [
       "INCIDENTNEIGHBORHOOD\n",
       "Mt. Oliver Neighborhood     2\n",
       "Troy Hill-Herrs Island      6\n",
       "Mt. Oliver Boro            17\n",
       "Central Northside          23\n",
       "Regent Square              27\n",
       "Ridgemont                  28\n",
       "Swisshelm Park             30\n",
       "Chartiers City             30\n",
       "New Homestead              35\n",
       "St. Clair                  41\n",
       "East Carnegie              43\n",
       "Outside County             46\n",
       "Outside State              52\n",
       "Summer Hill                60\n",
       "Oakwood                    64\n",
       "Name: INCIDENTNEIGHBORHOOD, dtype: int64"
      ]
     },
     "execution_count": 13,
     "metadata": {},
     "output_type": "execute_result"
    }
   ],
   "source": [
    "arrestdata.groupby('INCIDENTNEIGHBORHOOD')['INCIDENTNEIGHBORHOOD'].count().sort_values(ascending=True).head(15)"
   ]
  },
  {
   "cell_type": "markdown",
   "metadata": {},
   "source": [
    "----"
   ]
  },
  {
   "cell_type": "markdown",
   "metadata": {},
   "source": [
    "### Quality Point Scale:\n",
    "* 1st: 5 Points\n",
    "* 2nd: 4 Points\n",
    "* 3rd: 3 Points\n",
    "* 4th: 2 Points\n",
    "* 5th: 1 Point\n",
    "\n",
    "----"
   ]
  },
  {
   "cell_type": "markdown",
   "metadata": {},
   "source": [
    "### Results \n",
    "* Troy Hill-Herrs Island - 5 Quality Points\n",
    "* Mt. Oliver - 4 Quality Points\n",
    "* Central Northside - 3 Quality Points\n",
    "* Regent Square - 2 Quality Points\n",
    "* Ridgemont - 1 Quality Point"
   ]
  },
  {
   "cell_type": "markdown",
   "metadata": {},
   "source": [
    "# Art Data"
   ]
  },
  {
   "cell_type": "markdown",
   "metadata": {},
   "source": [
    "This metric is of the enjoyability of living in a city and is measured by the amount of public art in each neighborhood. We believe a good neighborhood should consist of a variety of public art for people to enjoy as they go about their daily lives.\n",
    "\n",
    "----"
   ]
  },
  {
   "cell_type": "markdown",
   "metadata": {},
   "source": [
    "## Scoring of Data"
   ]
  },
  {
   "cell_type": "markdown",
   "metadata": {},
   "source": [
    "We have decided to measure our data by giving a certain amount of quality points to the top five neighborhoods in this metric. These Quality points will be combined with other metrics to give us a standardized score to determine the overall best neighborhood in Pittsburgh.\n",
    "\n",
    "----"
   ]
  },
  {
   "cell_type": "markdown",
   "metadata": {},
   "source": [
    "## Data Collection "
   ]
  },
  {
   "cell_type": "code",
   "execution_count": 5,
   "metadata": {},
   "outputs": [],
   "source": [
    "import pandas as pd"
   ]
  },
  {
   "cell_type": "code",
   "execution_count": 6,
   "metadata": {},
   "outputs": [],
   "source": [
    "artdata = pd.read_csv(\"https://data.wprdc.org/datastore/dump/00d74e83-8a23-486e-841b-286e1332a151\")"
   ]
  },
  {
   "cell_type": "code",
   "execution_count": 15,
   "metadata": {},
   "outputs": [
    {
     "data": {
      "text/plain": [
       "neighborhood\n",
       "Central Business District    27\n",
       "Squirrel Hill South          20\n",
       "Allegheny Center             18\n",
       "Highland Park                10\n",
       "South Side Flats              9\n",
       "North Shore                   8\n",
       "Beechview                     7\n",
       "Shadyside                     6\n",
       "Central Oakland               5\n",
       "Lower Lawrenceville           5\n",
       "Brighton Heights              5\n",
       "Spring Hill-City View         4\n",
       "Point Breeze                  3\n",
       "Hazelwood                     3\n",
       "Greenfield                    3\n",
       "Name: neighborhood, dtype: int64"
      ]
     },
     "execution_count": 15,
     "metadata": {},
     "output_type": "execute_result"
    }
   ],
   "source": [
    "artdata.groupby('neighborhood')['neighborhood'].count().sort_values(ascending=False).head(15)"
   ]
  },
  {
   "cell_type": "markdown",
   "metadata": {},
   "source": [
    "----"
   ]
  },
  {
   "cell_type": "markdown",
   "metadata": {},
   "source": [
    "## Quality Point Scale:\n",
    "\n",
    "* 1st: 5 Points\n",
    "* 2nd: 4 Points\n",
    "* 3rd: 3 Points\n",
    "* 4th: 2 Points\n",
    "* 5th: 1 Point\n",
    "\n",
    "----"
   ]
  },
  {
   "cell_type": "markdown",
   "metadata": {},
   "source": [
    "## Results"
   ]
  },
  {
   "cell_type": "markdown",
   "metadata": {},
   "source": [
    "* Central Business District - 5 Quality Points\n",
    "* Squirrel Hill South - 4 Quality Points\n",
    "* Allegheny Center - 3 Quality Points\n",
    "* Highland Park - 2 Quality Points\n",
    "* South Side Flats - 1 Quality Point\n",
    "\n",
    "----"
   ]
  },
  {
   "cell_type": "markdown",
   "metadata": {},
   "source": [
    "# Fire Data"
   ]
  },
  {
   "cell_type": "markdown",
   "metadata": {},
   "source": [
    "This metric is safety from fires. We measured this using the amount of fires per each neighborhood in Pittsburgh. We think a good neighborhood consists of a low amount of fires.\n",
    "\n",
    "----"
   ]
  },
  {
   "cell_type": "markdown",
   "metadata": {},
   "source": [
    "## Scoring Data"
   ]
  },
  {
   "cell_type": "markdown",
   "metadata": {},
   "source": [
    "We have decided to measure our data by giving a certain amount of quality points to the top five neighborhoods in this metric.These quality points will be combined with other metrics to give us a standardized score to determine the overall best neighborhood in Pittsburgh.\n",
    "\n",
    "-----"
   ]
  },
  {
   "cell_type": "markdown",
   "metadata": {},
   "source": [
    "## Data Collection "
   ]
  },
  {
   "cell_type": "code",
   "execution_count": 9,
   "metadata": {},
   "outputs": [],
   "source": [
    "import pandas as pd\n"
   ]
  },
  {
   "cell_type": "code",
   "execution_count": 11,
   "metadata": {},
   "outputs": [],
   "source": [
    "firedata = pd.read_csv(\"https://data.wprdc.org/datastore/dump/8d76ac6b-5ae8-4428-82a4-043130d17b02\")"
   ]
  },
  {
   "cell_type": "code",
   "execution_count": 16,
   "metadata": {},
   "outputs": [
    {
     "data": {
      "text/plain": [
       "neighborhood\n",
       "Mount Oliver Borough     6\n",
       "Regent Square            7\n",
       "East Carnegie           10\n",
       "Mt. Oliver              10\n",
       "St. Clair               11\n",
       "Arlington Heights       12\n",
       "Ridgemont               12\n",
       "Oakwood                 13\n",
       "Chartiers City          14\n",
       "Swisshelm Park          15\n",
       "Windgap                 17\n",
       "Bon Air                 18\n",
       "West End                18\n",
       "Hays                    18\n",
       "Summer Hill             19\n",
       "Name: neighborhood, dtype: int64"
      ]
     },
     "execution_count": 16,
     "metadata": {},
     "output_type": "execute_result"
    }
   ],
   "source": [
    "firedata.groupby('neighborhood')['neighborhood'].count().sort_values(ascending=True).head(15)"
   ]
  },
  {
   "cell_type": "markdown",
   "metadata": {},
   "source": [
    "----"
   ]
  },
  {
   "cell_type": "markdown",
   "metadata": {},
   "source": [
    "## Quality Point Scale:\n",
    "* 1st: 5 Points\n",
    "* 2nd: 4 Points\n",
    "* 3rd: 3 Points\n",
    "* 4th: 2 Points\n",
    "* 5th: 1 Point\n",
    "-----"
   ]
  },
  {
   "cell_type": "markdown",
   "metadata": {},
   "source": [
    "## Results\n",
    "* Mount Oliver Borough - 5 Quality Points\n",
    "* Regent Square - 4 Quality Points\n",
    "* East Carnegie - 3 Quality Points\n",
    "* Mt. Oliver - 2 Quality Points\n",
    "* St. Clair - 1 Quality Point\n",
    "\n",
    "----"
   ]
  },
  {
   "cell_type": "markdown",
   "metadata": {},
   "source": [
    "# The Best Neighborhood"
   ]
  },
  {
   "cell_type": "markdown",
   "metadata": {},
   "source": [
    "Listed is the quality points given to each neighboorhood that was in the top five of each metric:\n",
    "\n",
    "* Troy 5\n",
    "* Mt Oliver 4\n",
    "* Central North 4\n",
    "* Regent 7\n",
    "* Ridgemont 2\n",
    "* Central business 5\n",
    "* Squirell Hill 4\n",
    "* Allegehny 3\n",
    "* Highland 2\n",
    "* Southside 1\n",
    "* East Carnegie 4\n",
    "* St Clair 3\n",
    "* Arlington 2"
   ]
  },
  {
   "cell_type": "code",
   "execution_count": 17,
   "metadata": {},
   "outputs": [],
   "source": [
    "import matplotlib.pyplot as plot\n",
    "\n",
    "data = {\"Neighborhood\":[\"Troy Hill-Herrs Island\", \"Mt. Oliver\", \"Central Northside\", \"Regent Square\", \"Ridgemont\", \"Central Business District\", \"Squirrel Hill South\", \"Allegheny Center\", \"Highland Park\", \"South Side Flats\", \"East Carnegie\", \"St. Clair\", \"Arlington Heights\"], \"Quality Points\":[5,4,4,7,2,5,4,3,2,1,4,3,2]};\n",
    "\n",
    "dataFrame = pd.DataFrame(data=data)"
   ]
  },
  {
   "cell_type": "code",
   "execution_count": 18,
   "metadata": {},
   "outputs": [
    {
     "data": {
      "image/png": "[encoded data removed]",
      "text/plain": [
       "<Figure size 432x288 with 1 Axes>"
      ]
     },
     "metadata": {
      "needs_background": "light"
     },
     "output_type": "display_data"
    }
   ],
   "source": [
    "dataFrame.plot.bar(x=\"Neighborhood\", y=\"Quality Points\", rot=70, title=\"Quality Points by Neighborhood\");\n",
    "plot.show(block=True);"
   ]
  },
  {
   "cell_type": "markdown",
   "metadata": {},
   "source": [
    "According to our data the best neighborhood in Pittsburgh is Regent Square because it scored the highest on our quality-of-life scale. As you can see by the graph Regent Square has the highest amount of quality points with 7. We believe this is the best neighborhood in Pittsburgh because of its low number of arrests and fires. According to a quote by Beth Price-Williams on Onlyinyourstate.com, “Regent Square tops the list of the safest places to live in Pittsburgh in 2016. With 4,198 residents, Regent Square tallied no violent crimes - murder, assault, or robbery. The average rent (821 a month) in Regent Square is lower than the national average of 902 and home price averages (178,809) are slightly higher than the national average of 176,700.” This website accredited Regent Square with labeling it as the safest place to live in Pittsburgh, which we believe is the most important metric."
   ]
  },
  {
   "cell_type": "markdown",
   "metadata": {},
   "source": [
    "# Conclusion "
   ]
  },
  {
   "cell_type": "markdown",
   "metadata": {},
   "source": [
    "Personally, I have never visited but based on pictures this does seem like a great neighborhood to move into. Safety is one of my top priorities when looking at a neighborhood, so I believe that Regent Square is the best neighborhood in Pittsburgh. Also, the location of the neighborhood is close to a lot of major and popular places in Pittsburgh. "
   ]
  },
  {
   "cell_type": "markdown",
   "metadata": {},
   "source": [
    "I have never personally been to Regent Square, however after it scored the highest out of our results I looked up the neighborhood and it looks like an overall good place to live. I think while our system of ranking the neighborhoods was simple, it was effective. Our three metrics worked well to create a balanced analysis on each neighborhood. And as we expected, our system returned a neighborhood that is well balanced, very low in crime rate, and overall is ranked very high among Pittsburgh cities in many articles."
   ]
  },
  {
   "cell_type": "code",
   "execution_count": null,
   "metadata": {},
   "outputs": [],
   "source": []
  }
 ],
 "metadata": {
  "kernelspec": {
   "display_name": "Python 3",
   "language": "python",
   "name": "python3"
  },
  "language_info": {
   "codemirror_mode": {
    "name": "ipython",
    "version": 3
   },
   "file_extension": ".py",
   "mimetype": "text/x-python",
   "name": "python",
   "nbconvert_exporter": "python",
   "pygments_lexer": "ipython3",
   "version": "3.8.3"
  }
 },
 "nbformat": 4,
 "nbformat_minor": 4
}
