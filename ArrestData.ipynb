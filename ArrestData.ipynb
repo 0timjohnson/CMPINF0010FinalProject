{
 "cells": [
  {
   "cell_type": "markdown",
   "metadata": {},
   "source": [
    "# Arrest Data\n",
    "This metric is of safety in each neighborhood. We measured this using data of arrests in Pittsburgh from 2016 to the present day.\n",
    "\n",
    "----"
   ]
  },
  {
   "cell_type": "markdown",
   "metadata": {},
   "source": [
    "# Scoring of data\n",
    "We have decided to measure our data by giving a certain amount of quality points to the top five neighborhoods in this metric. These Quality points will be combined with other metrics to give us a standardized score to determine the overall best neighborhood in Pittsburgh. \n",
    "\n",
    "---"
   ]
  },
  {
   "cell_type": "markdown",
   "metadata": {},
   "source": [
    "# Data Collection"
   ]
  },
  {
   "cell_type": "code",
   "execution_count": 2,
   "metadata": {},
   "outputs": [],
   "source": [
    "import pandas as pd"
   ]
  },
  {
   "cell_type": "code",
   "execution_count": 3,
   "metadata": {},
   "outputs": [],
   "source": [
    "arrestdata = pd.read_csv(\"https://data.wprdc.org/datastore/dump/e03a89dd-134a-4ee8-a2bd-62c40aeebc6f\")"
   ]
  },
  {
   "cell_type": "code",
   "execution_count": 9,
   "metadata": {},
   "outputs": [
    {
     "data": {
      "text/plain": [
       "INCIDENTNEIGHBORHOOD\n",
       "Mt. Oliver Neighborhood     2\n",
       "Troy Hill-Herrs Island      6\n",
       "Mt. Oliver Boro            17\n",
       "Central Northside          23\n",
       "Regent Square              27\n",
       "Ridgemont                  28\n",
       "Name: INCIDENTNEIGHBORHOOD, dtype: int64"
      ]
     },
     "execution_count": 9,
     "metadata": {},
     "output_type": "execute_result"
    }
   ],
   "source": [
    "arrestdata.groupby('INCIDENTNEIGHBORHOOD')['INCIDENTNEIGHBORHOOD'].count().sort_values(ascending=True).head(6)"
   ]
  },
  {
   "cell_type": "markdown",
   "metadata": {},
   "source": [
    " ----\n",
    " # Quality Point Scale:\n",
    "* 1st: 5 Points\n",
    "* 2nd: 4 Points\n",
    "* 3rd: 3 Points\n",
    "* 4th: 2 Points\n",
    "* 5th: 1 Point\n",
    "----"
   ]
  },
  {
   "cell_type": "markdown",
   "metadata": {},
   "source": [
    "# Results\n",
    "* Troy Hill-Herrs Island - 5 Quality Points\n",
    "* Mt. Oliver - 4 Quality Points\n",
    "* Central Northside - 3 Quality Points\n",
    "* Regent Square - 2 Quality Points\n",
    "* Ridgemont - 1 Quality Point\n",
    "----"
   ]
  }
 ],
 "metadata": {
  "kernelspec": {
   "display_name": "Python 3",
   "language": "python",
   "name": "python3"
  },
  "language_info": {
   "codemirror_mode": {
    "name": "ipython",
    "version": 3
   },
   "file_extension": ".py",
   "mimetype": "text/x-python",
   "name": "python",
   "nbconvert_exporter": "python",
   "pygments_lexer": "ipython3",
   "version": "3.8.3"
  }
 },
 "nbformat": 4,
 "nbformat_minor": 4
}
