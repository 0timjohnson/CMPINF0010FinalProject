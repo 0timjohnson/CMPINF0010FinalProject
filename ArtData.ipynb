{
 "cells": [
  {
   "cell_type": "markdown",
   "metadata": {},
   "source": [
    "# Art Data\n",
    "This metric is of the enjoyability of living in a city and is measured by the amount of public art in each neighborhood. We believe a good neighborhood should consist of a variety of public art for people to enjoy as they go about their daily lives.\n",
    "\n",
    "----"
   ]
  },
  {
   "cell_type": "markdown",
   "metadata": {},
   "source": [
    "# Scoring of data\n",
    "We have decided to measure our data by giving a certain amount of qulaity points to the top five neighborhoods in this metric. These Quality points will be combined with other metrics to give us a standardized score to determine the overall best neighborhood in Pittsburgh. \n",
    "\n",
    "---"
   ]
  },
  {
   "cell_type": "markdown",
   "metadata": {},
   "source": [
    "# Data Collection"
   ]
  },
  {
   "cell_type": "code",
   "execution_count": null,
   "metadata": {},
   "outputs": [],
   "source": [
    "import pandas as pd"
   ]
  },
  {
   "cell_type": "code",
   "execution_count": 3,
   "metadata": {},
   "outputs": [],
   "source": [
    "artdata = pd.read_csv(\"https://data.wprdc.org/datastore/dump/00d74e83-8a23-486e-841b-286e1332a151\")"
   ]
  },
  {
   "cell_type": "code",
   "execution_count": 5,
   "metadata": {},
   "outputs": [
    {
     "data": {
      "text/plain": [
       "neighborhood\n",
       "Central Business District    27\n",
       "Squirrel Hill South          20\n",
       "Allegheny Center             18\n",
       "Highland Park                10\n",
       "South Side Flats              9\n",
       "North Shore                   8\n",
       "Beechview                     7\n",
       "Shadyside                     6\n",
       "Central Oakland               5\n",
       "Lower Lawrenceville           5\n",
       "Brighton Heights              5\n",
       "Spring Hill-City View         4\n",
       "Point Breeze                  3\n",
       "Hazelwood                     3\n",
       "Greenfield                    3\n",
       "Elliott                       3\n",
       "Duquesne Heights              3\n",
       "Beltzhoover                   3\n",
       "Crawford-Roberts              3\n",
       "South Side Slopes             3\n",
       "East Allegheny                2\n",
       "Garfield                      2\n",
       "Allentown                     2\n",
       "Carrick                       2\n",
       "Brookline                     2\n",
       "Central Lawrenceville         2\n",
       "West End                      2\n",
       "Lincoln-Lemington-Belmar      2\n",
       "Mount Washington              2\n",
       "Upper Hill                    2\n",
       "Strip District                2\n",
       "Squirrel Hill North           2\n",
       "Spring Garden                 2\n",
       "Perry North                   2\n",
       "Crafton Heights               1\n",
       "Allegheny West                1\n",
       "Troy Hill                     1\n",
       "Swisshelm Park                1\n",
       "Bloomfield                    1\n",
       "Stanton Heights               1\n",
       "Sheraden                      1\n",
       "Regent Square                 1\n",
       "Upper Lawrenceville           1\n",
       "Knoxville                     1\n",
       "Perry South                   1\n",
       "East Carnegie                 1\n",
       "East Hills                    1\n",
       "East Liberty                  1\n",
       "Overbrook                     1\n",
       "Esplen                        1\n",
       "Oakwood                       1\n",
       "North Oakland                 1\n",
       "Hays                          1\n",
       "Manchester                    1\n",
       "Polish Hill                   1\n",
       "Name: neighborhood, dtype: int64"
      ]
     },
     "execution_count": 5,
     "metadata": {},
     "output_type": "execute_result"
    }
   ],
   "source": [
    "artdata.groupby('neighborhood')['neighborhood'].count().sort_values(ascending=False)"
   ]
  },
  {
   "cell_type": "markdown",
   "metadata": {},
   "source": [
    " ----\n",
    " # Quality Point Scale:\n",
    "* 1st: 5 Points\n",
    "* 2nd: 4 Points\n",
    "* 3rd: 3 Points\n",
    "* 4th: 2 Points\n",
    "* 5th: 1 Point\n",
    "----"
   ]
  },
  {
   "cell_type": "markdown",
   "metadata": {},
   "source": [
    "# Results\n",
    "* Central Business District - 5 Quality Points\n",
    "* Squirrel Hill South - 4 Quality Points\n",
    "* Allegheny Center - 3 Quality Points\n",
    "* Highland Park - 2 Quality Points\n",
    "* South Side Flats - 1 Quality Point\n",
    "----"
   ]
  },
  {
   "cell_type": "markdown",
   "metadata": {},
   "source": [
    "# Conclusion"
   ]
  },
  {
   "cell_type": "code",
   "execution_count": null,
   "metadata": {},
   "outputs": [],
   "source": []
  }
 ],
 "metadata": {
  "kernelspec": {
   "display_name": "Python 3",
   "language": "python",
   "name": "python3"
  },
  "language_info": {
   "codemirror_mode": {
    "name": "ipython",
    "version": 3
   },
   "file_extension": ".py",
   "mimetype": "text/x-python",
   "name": "python",
   "nbconvert_exporter": "python",
   "pygments_lexer": "ipython3",
   "version": "3.8.3"
  }
 },
 "nbformat": 4,
 "nbformat_minor": 4
}
