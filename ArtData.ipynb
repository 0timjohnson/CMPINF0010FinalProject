{
 "cells": [
  {
   "cell_type": "markdown",
   "metadata": {},
   "source": [
    "# Art Data\n",
    "This metric is of the enjoyability of living in a city and is measured by the amount of public art in each neighborhood. We believe a good neighborhood should consist of a variety of public art for people to enjoy as they go about their daily lives.\n",
    "\n",
    "----"
   ]
  },
  {
   "cell_type": "markdown",
   "metadata": {},
   "source": [
    "# Scoring of data\n",
    "We have decided to measure our data by giving a certain amount of quality points to the top five neighborhoods in this metric. These Quality points will be combined with other metrics to give us a standardized score to determine the overall best neighborhood in Pittsburgh. \n",
    "\n",
    "---"
   ]
  },
  {
   "cell_type": "markdown",
   "metadata": {},
   "source": [
    "# Data Collection"
   ]
  },
  {
   "cell_type": "code",
   "execution_count": 1,
   "metadata": {},
   "outputs": [],
   "source": [
    "import pandas as pd"
   ]
  },
  {
   "cell_type": "code",
   "execution_count": 2,
   "metadata": {},
   "outputs": [],
   "source": [
    "artdata = pd.read_csv(\"https://data.wprdc.org/datastore/dump/00d74e83-8a23-486e-841b-286e1332a151\")"
   ]
  },
  {
   "cell_type": "code",
   "execution_count": 3,
   "metadata": {},
   "outputs": [
    {
     "data": {
      "text/plain": [
       "neighborhood\n",
       "Central Business District    27\n",
       "Squirrel Hill South          20\n",
       "Allegheny Center             18\n",
       "Highland Park                10\n",
       "South Side Flats              9\n",
       "Name: neighborhood, dtype: int64"
      ]
     },
     "execution_count": 3,
     "metadata": {},
     "output_type": "execute_result"
    }
   ],
   "source": [
    "artdata.groupby('neighborhood')['neighborhood'].count().sort_values(ascending=False).head(5)"
   ]
  },
  {
   "cell_type": "markdown",
   "metadata": {},
   "source": [
    " ----\n",
    " # Quality Point Scale:\n",
    "* 1st: 5 Points\n",
    "* 2nd: 4 Points\n",
    "* 3rd: 3 Points\n",
    "* 4th: 2 Points\n",
    "* 5th: 1 Point\n",
    "----"
   ]
  },
  {
   "cell_type": "markdown",
   "metadata": {},
   "source": [
    "# Results\n",
    "* Central Business District - 5 Quality Points\n",
    "* Squirrel Hill South - 4 Quality Points\n",
    "* Allegheny Center - 3 Quality Points\n",
    "* Highland Park - 2 Quality Points\n",
    "* South Side Flats - 1 Quality Point\n",
    "----"
   ]
  }
 ],
 "metadata": {
  "kernelspec": {
   "display_name": "Python 3",
   "language": "python",
   "name": "python3"
  },
  "language_info": {
   "codemirror_mode": {
    "name": "ipython",
    "version": 3
   },
   "file_extension": ".py",
   "mimetype": "text/x-python",
   "name": "python",
   "nbconvert_exporter": "python",
   "pygments_lexer": "ipython3",
   "version": "3.8.3"
  }
 },
 "nbformat": 4,
 "nbformat_minor": 4
}
