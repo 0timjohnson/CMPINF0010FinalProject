{
 "cells": [
  {
   "cell_type": "markdown",
   "metadata": {},
   "source": [
    "# Fire Data\n",
    "This metric is safety from fires. We measured this using the amount of fires per each neighborhood in Pittsburgh. We think a good neighborhood consists of a low amount of fires.\n",
    "\n",
    "----"
   ]
  },
  {
   "cell_type": "markdown",
   "metadata": {},
   "source": [
    "# Scoring of data\n",
    "We have decided to measure our data by giving a certain amount of quality points to the top five neighborhoods in this metric.These quality points will be combined with other metrics to give us a standardized score to determine the overall best neighborhood in Pittsburgh. \n",
    "\n",
    "---"
   ]
  },
  {
   "cell_type": "markdown",
   "metadata": {},
   "source": [
    "# Data Collection"
   ]
  },
  {
   "cell_type": "code",
   "execution_count": 2,
   "metadata": {},
   "outputs": [],
   "source": [
    "import pandas as pd"
   ]
  },
  {
   "cell_type": "code",
   "execution_count": 3,
   "metadata": {},
   "outputs": [],
   "source": [
    "firedata = pd.read_csv(\"https://data.wprdc.org/datastore/dump/8d76ac6b-5ae8-4428-82a4-043130d17b02\")"
   ]
  },
  {
   "cell_type": "code",
   "execution_count": 5,
   "metadata": {},
   "outputs": [
    {
     "data": {
      "text/plain": [
       "neighborhood\n",
       "Mount Oliver Borough     6\n",
       "Regent Square            7\n",
       "East Carnegie           10\n",
       "Mt. Oliver              10\n",
       "St. Clair               11\n",
       "Arlington Heights       12\n",
       "Ridgemont               12\n",
       "Name: neighborhood, dtype: int64"
      ]
     },
     "execution_count": 5,
     "metadata": {},
     "output_type": "execute_result"
    }
   ],
   "source": [
    "firedata.groupby('neighborhood')['neighborhood'].count().sort_values(ascending=True).head(7)"
   ]
  },
  {
   "cell_type": "markdown",
   "metadata": {},
   "source": [
    " ----\n",
    " # Quality Point Scale:\n",
    "* 1st: 5 Points\n",
    "* 2nd: 4 Points\n",
    "* 3rd: 3 Points\n",
    "* 4th: 2 Points\n",
    "* 5th: 1 Point\n",
    "----"
   ]
  },
  {
   "cell_type": "markdown",
   "metadata": {},
   "source": [
    "# Results\n",
    "* Regent Square - 5 Quality Points\n",
    "* East Carnegie  - 4 Quality Points\n",
    "* St. Clair - 3 Quality Point\n",
    "* Arlington Heights - 2 Quality Points\n",
    "* Ridgemont - 1 Quality Point\n",
    "----"
   ]
  },
  {
   "cell_type": "code",
   "execution_count": null,
   "metadata": {},
   "outputs": [],
   "source": []
  }
 ],
 "metadata": {
  "kernelspec": {
   "display_name": "Python 3",
   "language": "python",
   "name": "python3"
  },
  "language_info": {
   "codemirror_mode": {
    "name": "ipython",
    "version": 3
   },
   "file_extension": ".py",
   "mimetype": "text/x-python",
   "name": "python",
   "nbconvert_exporter": "python",
   "pygments_lexer": "ipython3",
   "version": "3.8.3"
  }
 },
 "nbformat": 4,
 "nbformat_minor": 4
}
