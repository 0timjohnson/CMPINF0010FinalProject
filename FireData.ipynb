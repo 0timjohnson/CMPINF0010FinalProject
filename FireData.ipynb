{
 "cells": [
  {
   "cell_type": "code",
   "execution_count": 4,
   "metadata": {},
   "outputs": [],
   "source": [
    "import pandas as pd"
   ]
  },
  {
   "cell_type": "code",
   "execution_count": 5,
   "metadata": {},
   "outputs": [],
   "source": [
    "firedata = pd.read_csv(\"https://data.wprdc.org/datastore/dump/8d76ac6b-5ae8-4428-82a4-043130d17b02\")"
   ]
  },
  {
   "cell_type": "code",
   "execution_count": 8,
   "metadata": {},
   "outputs": [
    {
     "data": {
      "text/plain": [
       "neighborhood\n",
       "Mount Oliver Borough           6\n",
       "Regent Square                  7\n",
       "East Carnegie                 10\n",
       "Mt. Oliver                    10\n",
       "St. Clair                     11\n",
       "                            ... \n",
       "Hazelwood                    213\n",
       "South Side Flats             220\n",
       "Central Business District    225\n",
       "Squirrel Hill South          226\n",
       "Carrick                      255\n",
       "Name: neighborhood, Length: 91, dtype: int64"
      ]
     },
     "execution_count": 8,
     "metadata": {},
     "output_type": "execute_result"
    }
   ],
   "source": [
    "firedata.groupby('neighborhood')['neighborhood'].count().sort_values(ascending=True)"
   ]
  },
  {
   "cell_type": "markdown",
   "metadata": {},
   "source": [
    " ----\n",
    " # Quality Point Scale:\n",
    "* 1st: 5 Points\n",
    "* 2nd: 4 Points\n",
    "* 3rd: 3 Points\n",
    "* 4th: 2 Points\n",
    "* 5th: 1 Point\n",
    "----"
   ]
  },
  {
   "cell_type": "markdown",
   "metadata": {},
   "source": [
    "# Results\n",
    "* Mount Oliver Borough - 5 Quality Points\n",
    "* Regent Square - 4 Quality Points\n",
    "* East Carnegie  - 3 Quality Points\n",
    "* Mt. Oliver - 2 Quality Points\n",
    "* St. Clair - 1 Quality Point\n",
    "----"
   ]
  },
  {
   "cell_type": "code",
   "execution_count": null,
   "metadata": {},
   "outputs": [],
   "source": []
  }
 ],
 "metadata": {
  "kernelspec": {
   "display_name": "Python 3",
   "language": "python",
   "name": "python3"
  },
  "language_info": {
   "codemirror_mode": {
    "name": "ipython",
    "version": 3
   },
   "file_extension": ".py",
   "mimetype": "text/x-python",
   "name": "python",
   "nbconvert_exporter": "python",
   "pygments_lexer": "ipython3",
   "version": "3.8.3"
  }
 },
 "nbformat": 4,
 "nbformat_minor": 4
}
